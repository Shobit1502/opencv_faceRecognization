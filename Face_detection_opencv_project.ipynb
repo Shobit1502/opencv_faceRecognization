{
 "cells": [
  {
   "cell_type": "code",
   "execution_count": 1,
   "id": "9394a157",
   "metadata": {},
   "outputs": [],
   "source": [
    "import numpy as np\n",
    "import cv2"
   ]
  },
  {
   "cell_type": "code",
   "execution_count": 2,
   "id": "20323d20",
   "metadata": {},
   "outputs": [],
   "source": [
    "image=cv2.imread('faces.jpg')\n",
    "cv2.imshow('faces to be detected',image)\n",
    "cv2.waitKey(0)\n",
    "cv2.destroyAllWindows()"
   ]
  },
  {
   "cell_type": "code",
   "execution_count": 3,
   "id": "40d8c2de",
   "metadata": {},
   "outputs": [],
   "source": [
    "face_cascade=cv2.CascadeClassifier('haarcascade_frontalface_default.xml')"
   ]
  },
  {
   "cell_type": "code",
   "execution_count": 9,
   "id": "fd1937f3",
   "metadata": {},
   "outputs": [],
   "source": [
    "def facedetecion(img):\n",
    "    img=image.copy()\n",
    "    grey=cv2.cvtColor(img,cv2.COLOR_BGR2GRAY)\n",
    "    box,detections=face_cascade.detectMultiScale2(grey,minNeighbors=8)\n",
    "    for x,y,w,h in box:\n",
    "        cv2.rectangle(image,(x,y),(x+w,y+h),(0,255,0),1)\n",
    "    return image\n",
    "    \n"
   ]
  },
  {
   "cell_type": "code",
   "execution_count": 12,
   "id": "3fc92e1b",
   "metadata": {},
   "outputs": [],
   "source": [
    "fd=facedetecion(image)\n",
    "cv2.imshow('detected faces',fd)\n",
    "cv2.waitKey(0)\n",
    "cv2.destroyAllWindows()"
   ]
  },
  {
   "cell_type": "code",
   "execution_count": 13,
   "id": "02b24d23",
   "metadata": {},
   "outputs": [],
   "source": [
    "#end\n"
   ]
  },
  {
   "cell_type": "code",
   "execution_count": null,
   "id": "82f7a45f",
   "metadata": {},
   "outputs": [],
   "source": []
  }
 ],
 "metadata": {
  "kernelspec": {
   "display_name": "Python 3 (ipykernel)",
   "language": "python",
   "name": "python3"
  },
  "language_info": {
   "codemirror_mode": {
    "name": "ipython",
    "version": 3
   },
   "file_extension": ".py",
   "mimetype": "text/x-python",
   "name": "python",
   "nbconvert_exporter": "python",
   "pygments_lexer": "ipython3",
   "version": "3.9.6"
  }
 },
 "nbformat": 4,
 "nbformat_minor": 5
}
